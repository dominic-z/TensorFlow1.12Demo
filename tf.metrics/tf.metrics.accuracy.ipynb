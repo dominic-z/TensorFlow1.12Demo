{
 "cells": [
  {
   "cell_type": "code",
   "execution_count": 36,
   "metadata": {
    "collapsed": true
   },
   "outputs": [
    {
     "name": "stdout",
     "output_type": "stream",
     "text": [
      "[[0 1 1 0 0 1 1 0 1 1]\n",
      " [0 1 0 1 1 1 0 0 1 0]]\n",
      "[[0 1 1 1 0 0 0 0 0 1]\n",
      " [0 1 1 0 0 1 1 0 1 1]]\n",
      "[0.0, 0.6]\n",
      "[0.55, 0.6]\n",
      "11\n"
     ]
    }
   ],
   "source": [
    "# 可以看到这个玩意不是简单的算准确度，而是叠加地来算准确度，例如下面的第二个结果，就是两次结果的综合准确度\n",
    "# update 一次才会更新这个准确度，这个操作会更新count和total，从而更新准确度\n",
    "import tensorflow as tf\n",
    "import numpy as np\n",
    "tf.reset_default_graph()\n",
    "output_arr=np.random.choice([0,1],size=[2,10])\n",
    "label_arr=np.random.choice([0,1],size=[2,10])\n",
    "\n",
    "print(output_arr)\n",
    "print(label_arr)\n",
    "\n",
    "output_batch=tf.data.Dataset.from_tensor_slices(output_arr).make_one_shot_iterator().get_next()\n",
    "label_batch=tf.data.Dataset.from_tensor_slices(label_arr).make_one_shot_iterator().get_next()\n",
    "\n",
    "accuracy,update_op=tf.metrics.accuracy(labels=label_batch,predictions=output_batch)\n",
    "with tf.Session() as sess:\n",
    "    sess.run(tf.global_variables_initializer())\n",
    "    sess.run(tf.local_variables_initializer())\n",
    "    print(sess.run([accuracy,update_op]))\n",
    "    print(sess.run([accuracy,update_op]))\n",
    "print(np.sum(output_arr==label_arr))"
   ]
  },
  {
   "cell_type": "code",
   "execution_count": 41,
   "outputs": [
    {
     "name": "stdout",
     "output_type": "stream",
     "text": [
      "label\n",
      "[[0 0 0 0 1 1 0 0 1 1]\n",
      " [0 1 1 0 1 0 0 0 0 0]]\n",
      "output\n",
      "[[0 1 0 0 1 1 0 0 1 0]\n",
      " [1 0 0 0 0 1 1 0 0 0]]\n",
      "[1.0]\n",
      "[4.0]\n"
     ]
    }
   ],
   "source": [],
   "metadata": {
    "collapsed": false,
    "pycharm": {
     "name": "#%%\n"
    }
   }
  },
  {
   "cell_type": "code",
   "execution_count": 35,
   "outputs": [
    {
     "data": {
      "text/plain": "0.4"
     },
     "execution_count": 35,
     "metadata": {},
     "output_type": "execute_result"
    }
   ],
   "source": [
    "8/20"
   ],
   "metadata": {
    "collapsed": false,
    "pycharm": {
     "name": "#%%\n"
    }
   }
  },
  {
   "cell_type": "code",
   "execution_count": null,
   "outputs": [],
   "source": [
    "\n"
   ],
   "metadata": {
    "collapsed": false,
    "pycharm": {
     "name": "#%%\n"
    }
   }
  }
 ],
 "metadata": {
  "kernelspec": {
   "display_name": "Python 3",
   "language": "python",
   "name": "python3"
  },
  "language_info": {
   "codemirror_mode": {
    "name": "ipython",
    "version": 2
   },
   "file_extension": ".py",
   "mimetype": "text/x-python",
   "name": "python",
   "nbconvert_exporter": "python",
   "pygments_lexer": "ipython2",
   "version": "2.7.6"
  }
 },
 "nbformat": 4,
 "nbformat_minor": 0
}