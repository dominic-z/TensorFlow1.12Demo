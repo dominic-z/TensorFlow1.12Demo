{
 "cells": [
  {
   "cell_type": "code",
   "execution_count": 6,
   "metadata": {
    "collapsed": true
   },
   "outputs": [
    {
     "name": "stdout",
     "output_type": "stream",
     "text": [
      "[[[0.30566661 0.75442717 0.70346823]\n",
      "  [0.62693678 0.36323518 0.2166906 ]\n",
      "  [0.76764905 0.79444696 0.44354224]\n",
      "  [0.41192104 0.42497032 0.23370204]]\n",
      "\n",
      " [[0.48948531 0.69378926 0.47286695]\n",
      "  [0.24034966 0.92642172 0.616362  ]\n",
      "  [0.20650097 0.07023292 0.44376065]\n",
      "  [0.59207108 0.90238857 0.25077408]]\n",
      "\n",
      " [[0.42354117 0.52235109 0.04037119]\n",
      "  [0.31704703 0.88657551 0.82507088]\n",
      "  [0.2235806  0.9868379  0.0099688 ]\n",
      "  [0.50875481 0.11944391 0.57908306]]\n",
      "\n",
      " [[0.41880089 0.00895712 0.72153488]\n",
      "  [0.58079133 0.07639467 0.72879911]\n",
      "  [0.6331109  0.09015282 0.98749187]\n",
      "  [0.55049168 0.3823963  0.09442846]]\n",
      "\n",
      " [[0.88549556 0.72241706 0.8874997 ]\n",
      "  [0.21311255 0.24343345 0.02067351]\n",
      "  [0.26349418 0.56311437 0.34171727]\n",
      "  [0.08366377 0.80506536 0.80525724]]]\n",
      "[[2 2 0]\n",
      " [3 1 1]\n",
      " [3 2 1]\n",
      " [2 3 2]\n",
      " [0 3 0]]\n"
     ]
    }
   ],
   "source": [
    "import tensorflow as tf\n",
    "import numpy as np\n",
    "\n",
    "tf.reset_default_graph()\n",
    "\n",
    "arr=np.random.random(size=(5,4,3))\n",
    "var=tf.Variable(arr)\n",
    "\n",
    "# 每次都找var[,:,]的最大值\n",
    "arg_max=tf.arg_max(var,dimension=1)\n",
    "\n",
    "with tf.Session() as sess:\n",
    "    sess.run(tf.global_variables_initializer())\n",
    "    sess.run(tf.local_variables_initializer())\n",
    "    print(sess.run(var))\n",
    "    print(sess.run(arg_max))"
   ]
  },
  {
   "cell_type": "code",
   "execution_count": null,
   "outputs": [],
   "source": [
    "\n"
   ],
   "metadata": {
    "collapsed": false,
    "pycharm": {
     "name": "#%%\n"
    }
   }
  }
 ],
 "metadata": {
  "kernelspec": {
   "display_name": "Python 3",
   "language": "python",
   "name": "python3"
  },
  "language_info": {
   "codemirror_mode": {
    "name": "ipython",
    "version": 2
   },
   "file_extension": ".py",
   "mimetype": "text/x-python",
   "name": "python",
   "nbconvert_exporter": "python",
   "pygments_lexer": "ipython2",
   "version": "2.7.6"
  }
 },
 "nbformat": 4,
 "nbformat_minor": 0
}