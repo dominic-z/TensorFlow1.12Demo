{
 "cells": [
  {
   "cell_type": "code",
   "execution_count": 9,
   "metadata": {
    "collapsed": true
   },
   "outputs": [
    {
     "name": "stdout",
     "output_type": "stream",
     "text": [
      "[array([0.2, 1.2, 2.2, 3.2, 4.2, 5.2, 6.2, 7.2, 8.2, 9.2], dtype=float32)]\n",
      "[array([10.4, 11.4, 12.4, 13.4, 14.4, 15.4, 16.4, 17.4, 18.4, 19.4],\n",
      "      dtype=float32)]\n"
     ]
    }
   ],
   "source": [
    "# sess.run\n",
    "\n",
    "import tensorflow as tf\n",
    "import numpy as np\n",
    "tf.reset_default_graph()\n",
    "ds=tf.data.Dataset.from_tensor_slices(np.reshape(np.arange(0,100),newshape=[10,10]).astype(np.float32))\n",
    "sample_data=ds.make_one_shot_iterator().get_next()\n",
    "res1=tf.add(sample_data,0.2)\n",
    "res2=tf.add(sample_data,0.4)\n",
    "\n",
    "with tf.Session() as sess:\n",
    "    # 下面的代码执行结果为\n",
    "    # [array([0.2, 1.2, 2.2, 3.2, 4.2, 5.2, 6.2, 7.2, 8.2, 9.2], dtype=float32), array([0.4, 1.4, 2.4, 3.4, 4.4, 5.4, 6.4, 7.4, 8.4, 9.4], dtype=float32)]\n",
    "    # 可以看到res1和res2使用的都是ds里的第一行，数据流并没有流动两次\n",
    "    # 这说明在一个run里，数据流只会流动一次，即get_next只获取了一次，res1的sample_data与res2的sample_data是相同的\n",
    "    # print(sess.run([res1,res2]))\n",
    "\n",
    "    # 下面的结果是\n",
    "    #     [array([0.2, 1.2, 2.2, 3.2, 4.2, 5.2, 6.2, 7.2, 8.2, 9.2], dtype=float32)]\n",
    "    # [array([10.4, 11.4, 12.4, 13.4, 14.4, 15.4, 16.4, 17.4, 18.4, 19.4],\n",
    "    #       dtype=float32)]\n",
    "    # 说明res1和res2触发了两次数据流，get_next执行了两次，，res1的sample_data与res2的sample_data是不同的\n",
    "\n",
    "    print(sess.run([res1]))\n",
    "    print(sess.run([res2]))\n",
    "    \n",
    "    # 更进一步的可以看下面，这两个sample——data结果是相同的\n",
    "    print(sess.run[sample_data,sample_data])"
   ]
  },
  {
   "cell_type": "code",
   "execution_count": 6,
   "outputs": [],
   "source": [],
   "metadata": {
    "collapsed": false,
    "pycharm": {
     "name": "#%%\n"
    }
   }
  },
  {
   "cell_type": "code",
   "execution_count": null,
   "outputs": [],
   "source": [
    "\n"
   ],
   "metadata": {
    "collapsed": false,
    "pycharm": {
     "name": "#%%\n"
    }
   }
  }
 ],
 "metadata": {
  "kernelspec": {
   "display_name": "Python 3",
   "language": "python",
   "name": "python3"
  },
  "language_info": {
   "codemirror_mode": {
    "name": "ipython",
    "version": 2
   },
   "file_extension": ".py",
   "mimetype": "text/x-python",
   "name": "python",
   "nbconvert_exporter": "python",
   "pygments_lexer": "ipython2",
   "version": "2.7.6"
  }
 },
 "nbformat": 4,
 "nbformat_minor": 0
}