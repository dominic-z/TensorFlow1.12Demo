{
 "cells": [
  {
   "cell_type": "code",
   "execution_count": 22,
   "metadata": {
    "collapsed": true
   },
   "outputs": [
    {
     "name": "stdout",
     "output_type": "stream",
     "text": [
      "Tensor(\"tensor:0\", shape=(3, 2), dtype=float32)\n",
      "Tensor(\"tensor:0\", shape=(3, 2), dtype=float32)\n"
     ]
    }
   ],
   "source": [
    "import tensorflow as tf\n",
    "tf.reset_default_graph()\n",
    "var = tf.get_variable(name=\"var\",shape=[3,4],initializer=tf.initializers.ones())\n",
    "dense_layer = tf.layers.Dense(units=2)\n",
    "output = dense_layer(var)\n",
    "\n",
    "named_output = tf.identity(output,\"tensor\")\n",
    "\n",
    "get_tensor_by_name = tf.get_default_graph().get_tensor_by_name(\"tensor:0\")\n",
    "\n",
    "print(named_output)\n",
    "print(get_tensor_by_name)"
   ]
  },
  {
   "cell_type": "code",
   "execution_count": 26,
   "outputs": [
    {
     "name": "stdout",
     "output_type": "stream",
     "text": [
      "==========trainable_vars=========\n",
      "[<tf.Variable 'var:0' shape=(3, 4) dtype=float32_ref>, <tf.Variable 'dense/kernel:0' shape=(4, 2) dtype=float32_ref>, <tf.Variable 'dense/bias:0' shape=(2,) dtype=float32_ref>, <tf.Variable 'dense_1/kernel:0' shape=(2, 3) dtype=float32_ref>, <tf.Variable 'dense_1/bias:0' shape=(3,) dtype=float32_ref>]\n",
      "==========losses=========\n",
      "[<tf.Tensor 'sparse_softmax_cross_entropy_loss/value:0' shape=() dtype=float32>]\n",
      "==========reg_losses=========\n",
      "[<tf.Tensor 'dense/kernel/Regularizer/add:0' shape=() dtype=float32>, <tf.Tensor 'dense_1/kernel/Regularizer/add:0' shape=() dtype=float32>]\n"
     ]
    }
   ],
   "source": [
    "import tensorflow as tf\n",
    "import numpy as np\n",
    "tf.reset_default_graph()\n",
    "var = tf.get_variable(name=\"var\",shape=[3,4],initializer=tf.initializers.ones(),trainable=True)\n",
    "labels = tf.constant(value = np.random.randint(0,3,size=[3]))\n",
    "\n",
    "dense_layer1 = tf.layers.Dense(units=2,kernel_regularizer=tf.keras.regularizers.l2(0.2))\n",
    "output = dense_layer1(var)\n",
    "\n",
    "dense_layer2 = tf.layers.Dense(units=3,kernel_regularizer=tf.keras.regularizers.l2(0.2))\n",
    "output = dense_layer2(output)\n",
    "\n",
    "named_output = tf.identity(output,\"tensor\")\n",
    "\n",
    "loss = tf.losses.sparse_softmax_cross_entropy(labels=labels,logits=named_output)\n",
    "\n",
    "\n",
    "trainable_vars = tf.get_default_graph().get_collection_ref(tf.GraphKeys.TRAINABLE_VARIABLES)\n",
    "print(\"==========trainable_vars=========\")\n",
    "print(trainable_vars)\n",
    "\n",
    "losses = tf.get_default_graph().get_collection_ref(tf.GraphKeys.LOSSES)\n",
    "print(\"==========losses=========\")\n",
    "print(losses)\n",
    "\n",
    "reg_losses = tf.get_default_graph().get_collection_ref(tf.GraphKeys.REGULARIZATION_LOSSES)\n",
    "print(\"==========reg_losses=========\")\n",
    "print(reg_losses)\n",
    "\n"
   ],
   "metadata": {
    "collapsed": false,
    "pycharm": {
     "name": "#%%\n"
    }
   }
  },
  {
   "cell_type": "code",
   "execution_count": 20,
   "outputs": [],
   "source": [],
   "metadata": {
    "collapsed": false,
    "pycharm": {
     "name": "#%%\n"
    }
   }
  },
  {
   "cell_type": "code",
   "execution_count": 29,
   "outputs": [
    {
     "name": "stdout",
     "output_type": "stream",
     "text": [
      "==========trainable_vars=========\n",
      "[<tf.Variable 'scope/var:0' shape=(3, 4) dtype=float32_ref>]\n"
     ]
    }
   ],
   "source": [
    "import tensorflow as tf\n",
    "import numpy as np\n",
    "tf.reset_default_graph()\n",
    "with tf.variable_scope('scope'):\n",
    "    var = tf.get_variable(name=\"var\",shape=[3,4],initializer=tf.initializers.ones(),trainable=True)\n",
    "labels = tf.constant(value = np.random.randint(0,3,size=[3]))\n",
    "\n",
    "dense_layer1 = tf.layers.Dense(units=2,kernel_regularizer=tf.keras.regularizers.l2(0.2))\n",
    "output = dense_layer1(var)\n",
    "\n",
    "dense_layer2 = tf.layers.Dense(units=3,kernel_regularizer=tf.keras.regularizers.l2(0.2))\n",
    "output = dense_layer2(output)\n",
    "\n",
    "named_output = tf.identity(output,\"tensor\")\n",
    "\n",
    "loss = tf.losses.sparse_softmax_cross_entropy(labels=labels,logits=named_output)\n",
    "\n",
    "\n",
    "trainable_vars = tf.get_default_graph()\\\n",
    "    .get_collection(name=tf.GraphKeys.TRAINABLE_VARIABLES,scope=\"scope/va*\")\n",
    "print(\"==========trainable_vars=========\")\n",
    "print(trainable_vars)\n"
   ],
   "metadata": {
    "collapsed": false,
    "pycharm": {
     "name": "#%%\n"
    }
   }
  },
  {
   "cell_type": "code",
   "execution_count": null,
   "outputs": [],
   "source": [
    "\n"
   ],
   "metadata": {
    "collapsed": false,
    "pycharm": {
     "name": "#%%\n"
    }
   }
  }
 ],
 "metadata": {
  "kernelspec": {
   "display_name": "Python 3",
   "language": "python",
   "name": "python3"
  },
  "language_info": {
   "codemirror_mode": {
    "name": "ipython",
    "version": 2
   },
   "file_extension": ".py",
   "mimetype": "text/x-python",
   "name": "python",
   "nbconvert_exporter": "python",
   "pygments_lexer": "ipython2",
   "version": "2.7.6"
  }
 },
 "nbformat": 4,
 "nbformat_minor": 0
}